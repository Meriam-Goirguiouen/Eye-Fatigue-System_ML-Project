{
 "cells": [
  {
   "cell_type": "markdown",
   "id": "148d9cf6-c1dc-49b1-9383-b19eac3eabbb",
   "metadata": {},
   "source": [
    "# Projet : Système de détection de la fatigue oculaire\n",
    "\n",
    "## Objectif du projet\n",
    "Ce projet a pour but de développer un modèle de Machine Learning capable de détecter la fatigue oculaire à partir d’images, afin de prévenir les risques liés à la conduite.\n",
    "\n",
    "---\n",
    "## Structure du Notebook\n",
    "\n",
    "Ce notebook est organisé en plusieurs parties principales :\n",
    "\n",
    " 1- Collecte des données\n",
    " \n",
    " 2- Prétraitement des données\n",
    " \n",
    " 3- Entraînement du modèle\n",
    " \n",
    " 4- Évaluation du modèle\n",
    " \n",
    " 5- Visualisation et interprétation\n",
    " \n",
    "---"
   ]
  },
  {
   "cell_type": "markdown",
   "id": "6fd8376b-c775-4436-9bbe-0b0a1bece6c4",
   "metadata": {},
   "source": [
    "## Collecte des données\n",
    "\n",
    "Cette section contient le code permettant de récupérer et d’organiser les données utilisées dans ce projet.\n",
    "\n",
    "Le dataset provient de la plateforme **Kaggle** et a été téléchargé manuellement, puis décompressé localement dans le répertoire de travail du projet.\n",
    "\n",
    "Chaque sous-partie ci-dessous traite une étape spécifique :\n",
    "- Vérification de la structure des données\n",
    "- Renommer les sous-dossiers pour améliorer la lisibilité\n",
    "- Chargement des images depuis les sous-dossiers"
   ]
  },
  {
   "cell_type": "code",
   "execution_count": null,
   "id": "a6be6208-f8a3-495d-8d24-9f623e7851d6",
   "metadata": {},
   "outputs": [],
   "source": [
    "# --- Télécharger le dataset depuis la plateforme Kaggle :\n",
    "!kaggle datasets download -d ismailnasri20/driver-drowsiness-dataset-ddd\n",
    "# --- Décompresser localement le dataset dans le répertoire de travail du projet :\n",
    "import zipfile\n",
    "\n",
    "with zipfile.ZipFile('driver-drowsiness-dataset-ddd.zip', 'r') as zip_ref:\n",
    "    zip_ref.extractall('C:/Jupyter_File/Project_Dataset')"
   ]
  },
  {
   "cell_type": "code",
   "execution_count": 2,
   "id": "64dbb0d8-f7b4-4f85-a8f7-7a9a2afb1bc5",
   "metadata": {},
   "outputs": [
    {
     "name": "stdout",
     "output_type": "stream",
     "text": [
      "['yeux_fermés', 'yeux_ouverts']\n"
     ]
    }
   ],
   "source": [
    "# --- Explorer les sous dossiers du dossier de notre dataset :\n",
    "import os\n",
    "dataset_path = 'C:/Jupyter_File/Project_dataset/Driver Drowsiness Dataset (DDD)'\n",
    "files = os.listdir(dataset_path)\n",
    "print(files)\n",
    "\n",
    "# --- Renommer le dossier 'Drowsy' en 'yeux_fermés'\n",
    "os.rename(os.path.join(dataset_path, 'Drowsy'), os.path.join(dataset_path, 'yeux_fermés'))\n",
    "\n",
    "# --- Renommer le dossier 'Non Drowsy' en 'yeux_ouverts'\n",
    "os.rename(os.path.join(dataset_path, 'Non Drowsy'), os.path.join(dataset_path, 'yeux_ouverts'))\n"
   ]
  },
  {
   "cell_type": "code",
   "execution_count": 3,
   "id": "15d484c0-8f02-49fd-bcbd-2182a81d9a14",
   "metadata": {},
   "outputs": [
    {
     "name": "stdout",
     "output_type": "stream",
     "text": [
      "Chargement des images de la classe : yeux_fermés\n",
      "Chargement des images de la classe : yeux_ouverts\n",
      "Nombre total d'images collectées : 41793\n"
     ]
    }
   ],
   "source": [
    "# --- Chargement des images depuis les sous-dossiers :\n",
    "import os\n",
    "from PIL import Image\n",
    "\n",
    "dataset_path = 'C:/Jupyter_File/Project_dataset/Driver Drowsiness Dataset (DDD)'\n",
    "\n",
    "# Liste pour stocker les images\n",
    "images = []\n",
    "# Liste pour stocker les étiquettes correspondantes\n",
    "labels = []\n",
    "\n",
    "# NB: Chaque sous-dossier correspond à une classe :\n",
    "for folder in os.listdir(dataset_path):\n",
    "    folder_path = os.path.join(dataset_path, folder)\n",
    "    if os.path.isdir(folder_path):  # Vérifier si c'est un dossier\n",
    "        print(f\"Chargement des images de la classe : {folder}\")\n",
    "        \n",
    "        # Parcourir chaque image dans le sous-dossier\n",
    "        for img_name in os.listdir(folder_path):\n",
    "            img_path = os.path.join(folder_path, img_name)\n",
    "            try:\n",
    "                with Image.open(img_path) as img:\n",
    "                    # Ajouter l'image et son label (nom du sous-dossier) aux listes\n",
    "                    images.append(img)\n",
    "                    labels.append(folder)  # L'étiquette est le nom du sous-dossier\n",
    "            except Exception as e:\n",
    "                print(f\"Erreur avec l'image {img_path}: {e}\")\n",
    "\n",
    "# Afficher le nombre d'images collectées\n",
    "print(f\"Nombre total d'images collectées : {len(images)}\")\n"
   ]
  },
  {
   "cell_type": "markdown",
   "id": "a74a667d-b2df-4cee-a97a-02e9af2b6930",
   "metadata": {},
   "source": [
    "## Prétraitement des données\n",
    "\n",
    "Dans cette section, nous préparons les données brutes pour notre modèle de Machine Learning afin de garantir que ce dernier reçoive des données propres, cohérentes et exploitables.\n",
    "\n",
    "Les étapes de prétraitement appliquées sont les suivantes :\n",
    "\n",
    "### 1- Redimensionnement des images\n",
    "Toutes les images seront redimensionnées à une taille fixe (par exemple 64x64 pixels) afin d’uniformiser les dimensions et réduire le coût de calcul.\n",
    "\n",
    "### 2- Normalisation\n",
    "Les valeurs des pixels seront normalisées (généralement entre 0 et 1) pour faciliter l’apprentissage du modèle et améliorer la convergence.\n",
    "\n",
    "### 3- Attribution des étiquettes\n",
    "Chaque image sera associée à une étiquette numérique selon sa classe :\n",
    "- `0` : yeux fermés\n",
    "- `1` : yeux ouverts\n",
    "\n",
    "### 4- Division en jeux d’entraînement et de test\n",
    "Les données seront divisées en deux ensembles :\n",
    "- **Entraînement** : pour que le modèle apprenne à reconnaître les classes\n",
    "- **Test** : pour évaluer la performance du modèle sur des données jamais vues\n"
   ]
  },
  {
   "cell_type": "code",
   "execution_count": null,
   "id": "1ceb1b21-e2c0-4120-9bac-bd949b0a7566",
   "metadata": {},
   "outputs": [],
   "source": []
  }
 ],
 "metadata": {
  "kernelspec": {
   "display_name": "Python 3 (ipykernel)",
   "language": "python",
   "name": "python3"
  },
  "language_info": {
   "codemirror_mode": {
    "name": "ipython",
    "version": 3
   },
   "file_extension": ".py",
   "mimetype": "text/x-python",
   "name": "python",
   "nbconvert_exporter": "python",
   "pygments_lexer": "ipython3",
   "version": "3.13.0"
  }
 },
 "nbformat": 4,
 "nbformat_minor": 5
}
